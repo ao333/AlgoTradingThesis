{
 "cells": [
  {
   "cell_type": "code",
   "execution_count": 13,
   "metadata": {
    "scrolled": true
   },
   "outputs": [
    {
     "name": "stdout",
     "output_type": "stream",
     "text": [
      "IPO 2006-02-06 CR 4.064802633316955 SD 0.01905302654120489 SR 0.54647401319181\n"
     ]
    }
   ],
   "source": [
    "import time\n",
    "import numpy as np\n",
    "import pandas as pd\n",
    "\n",
    "df = pd.read_csv(\"https://www.alphavantage.co/query?function=TIME_SERIES_DAILY_ADJUSTED&symbol=XBI&apikey=7V4FCTJVHVEY9FH5&outputsize=full&datatype=csv\",\n",
    "                 index_col='timestamp', usecols=['timestamp','adjusted_close'])\n",
    "df = df[df['adjusted_close'] > 0]\n",
    "price = df['adjusted_close'][time.strftime(\"%Y-%m-%d\"):\"2007-10-25\"]\n",
    "\n",
    "cr = (price[0]/price[-1]) - 1\n",
    "pct = price.pct_change(-1)\n",
    "sd = pct.std()\n",
    "rfr = (1+0.03)**(1/252)-1\n",
    "sr = np.sqrt(252) * ((pct.mean()-rfr)/sd)\n",
    "print(\"IPO {} CR {} SD {} SR {}\".format(df.index[-1],cr,sd,sr))"
   ]
  },
  {
   "cell_type": "code",
   "execution_count": 14,
   "metadata": {},
   "outputs": [
    {
     "data": {
      "text/html": [
       "<div>\n",
       "<style scoped>\n",
       "    .dataframe tbody tr th:only-of-type {\n",
       "        vertical-align: middle;\n",
       "    }\n",
       "\n",
       "    .dataframe tbody tr th {\n",
       "        vertical-align: top;\n",
       "    }\n",
       "\n",
       "    .dataframe thead th {\n",
       "        text-align: right;\n",
       "    }\n",
       "</style>\n",
       "<table border=\"1\" class=\"dataframe\">\n",
       "  <thead>\n",
       "    <tr style=\"text-align: right;\">\n",
       "      <th></th>\n",
       "      <th>IPO</th>\n",
       "      <th>CR</th>\n",
       "      <th>SD</th>\n",
       "      <th>SR</th>\n",
       "    </tr>\n",
       "  </thead>\n",
       "  <tbody>\n",
       "    <tr>\n",
       "      <th>csu.to</th>\n",
       "      <td>2007-10-25</td>\n",
       "      <td>37.091</td>\n",
       "      <td>0.0153895</td>\n",
       "      <td>1.37647</td>\n",
       "    </tr>\n",
       "    <tr>\n",
       "      <th>byd-un.to</th>\n",
       "      <td>2000-01-03</td>\n",
       "      <td>67.1581</td>\n",
       "      <td>0.0214203</td>\n",
       "      <td>1.22864</td>\n",
       "    </tr>\n",
       "    <tr>\n",
       "      <th>nflx</th>\n",
       "      <td>2002-05-23</td>\n",
       "      <td>99.7461</td>\n",
       "      <td>0.0341701</td>\n",
       "      <td>0.99746</td>\n",
       "    </tr>\n",
       "    <tr>\n",
       "      <th>rost</th>\n",
       "      <td>1995-01-03</td>\n",
       "      <td>16.255</td>\n",
       "      <td>0.0178165</td>\n",
       "      <td>0.962351</td>\n",
       "    </tr>\n",
       "    <tr>\n",
       "      <th>0700.hk</th>\n",
       "      <td>2004-06-16</td>\n",
       "      <td>29.859</td>\n",
       "      <td>0.0241931</td>\n",
       "      <td>0.951837</td>\n",
       "    </tr>\n",
       "    <tr>\n",
       "      <th>ccl-b.to</th>\n",
       "      <td>2000-01-03</td>\n",
       "      <td>14.9259</td>\n",
       "      <td>0.0198439</td>\n",
       "      <td>0.872767</td>\n",
       "    </tr>\n",
       "    <tr>\n",
       "      <th>amzn</th>\n",
       "      <td>1997-05-15</td>\n",
       "      <td>21.3352</td>\n",
       "      <td>0.0238679</td>\n",
       "      <td>0.862987</td>\n",
       "    </tr>\n",
       "  </tbody>\n",
       "</table>\n",
       "</div>"
      ],
      "text/plain": [
       "                  IPO       CR         SD        SR\n",
       "csu.to     2007-10-25   37.091  0.0153895   1.37647\n",
       "byd-un.to  2000-01-03  67.1581  0.0214203   1.22864\n",
       "nflx       2002-05-23  99.7461  0.0341701   0.99746\n",
       "rost       1995-01-03   16.255  0.0178165  0.962351\n",
       "0700.hk    2004-06-16   29.859  0.0241931  0.951837\n",
       "ccl-b.to   2000-01-03  14.9259  0.0198439  0.872767\n",
       "amzn       1997-05-15  21.3352  0.0238679  0.862987"
      ]
     },
     "execution_count": 14,
     "metadata": {},
     "output_type": "execute_result"
    }
   ],
   "source": [
    "tickers = [\"csu.to\",\"byd-un.to\",\"nflx\",\"rost\",\"0700.hk\",\"ccl-b.to\",\"amzn\"]\n",
    "table = pd.DataFrame(index=tickers, columns=['IPO','CR','SD','SR'])\n",
    "\n",
    "for ticker in tickers:\n",
    "    df = pd.read_csv(\"https://www.alphavantage.co/query?function=TIME_SERIES_DAILY_ADJUSTED&symbol=%s&apikey=7V4FCTJVHVEY9FH5&outputsize=full&datatype=csv\"%(ticker),\n",
    "                     index_col='timestamp', usecols=['timestamp','adjusted_close'])\n",
    "    df = df[df['adjusted_close'] > 0]\n",
    "    price = df['adjusted_close'][time.strftime(\"%Y-%m-%d\"):\"2007-10-25\"]\n",
    "    \n",
    "    cr = (price[0]/price[-1]) - 1\n",
    "    pct = price.pct_change(-1)\n",
    "    sd = pct.std()\n",
    "    rfr = (1+0.03)**(1/252)-1\n",
    "    sr = np.sqrt(252) * ((pct.mean()-rfr)/sd)\n",
    "    \n",
    "    table.loc[ticker] = [df.index[-1],cr,sd,sr]\n",
    "\n",
    "table.sort_values('SR')\n",
    "table"
   ]
  },
  {
   "cell_type": "code",
   "execution_count": null,
   "metadata": {},
   "outputs": [],
   "source": [
    "import os\n",
    "df = pd.read_csv(os.path.join('data','all.csv'), index_col='date', usecols=['date','ticker','adj_close'])"
   ]
  },
  {
   "cell_type": "code",
   "execution_count": null,
   "metadata": {},
   "outputs": [],
   "source": [
    "dfs = dict(tuple(df.groupby('ticker')))"
   ]
  },
  {
   "cell_type": "code",
   "execution_count": null,
   "metadata": {},
   "outputs": [],
   "source": [
    "# import urllib.request\n",
    "\n",
    "# ticker = \"QQQ\"\n",
    "# url_string = \"https://www.alphavantage.co/query?function=TIME_SERIES_DAILY&symbol=%s&outputsize=full&apikey=7V4FCTJVHVEY9FH5\"%(ticker)\n",
    "# save = '%s.csv'%ticker  # Save data to this file\n",
    "\n",
    "# # If you haven't already saved data, grab the data from the url\n",
    "# if not os.path.exists(save):\n",
    "#     with urllib.request.urlopen(url_string) as url:\n",
    "#         data = json.loads(url.read().decode())\n",
    "#         data = data['Time Series (Daily)']  # extract stock market data\n",
    "#         # And store date, low, high, volume, close, open values to a Pandas dataframe\n",
    "#         df = pd.DataFrame(columns=['Date','Low','High','Close','Open'])\n",
    "#         for k,v in data.items():\n",
    "#             date = dt.datetime.strptime(k, '%Y-%m-%d')\n",
    "#             data_row = [date.date(),float(v['3. low']),float(v['2. high']), float(v['4. close']),float(v['1. open'])]\n",
    "#             df.loc[-1,:] = data_row\n",
    "#             df.index = df.index + 1\n",
    "#     print('Data saved to : %s'%file_to_save)\n",
    "#     df.to_csv(file_to_save)\n",
    "# else:  # If data aready exists, just load from the CSV\n",
    "#     print('File already exists. Loading data from CSV')\n",
    "#     df = pd.read_csv(file_to_save)"
   ]
  },
  {
   "cell_type": "code",
   "execution_count": null,
   "metadata": {},
   "outputs": [],
   "source": [
    "import matplotlib.pyplot as plt\n",
    "\n",
    "window = 252\n",
    "\n",
    "rolling_max = price.rolling(window, min_periods=1).max()\n",
    "daily_drawdown = price/rolling_max - 1.0\n",
    "max_daily_drawdown = daily_drawdown.rolling(window, min_periods=1).min()\n",
    "\n",
    "drawdown = plt.figure(figsize=(15,8))\n",
    "plt.plot(daily_drawdown)\n",
    "plt.plot(max_daily_drawdown)\n",
    "drawdown.suptitle('Anticipated Maximum Daily Drawdown')\n",
    "plt.xlabel('Date')\n",
    "plt.ylabel('Drawdown Losses in %')\n",
    "plt.legend(['Actual Daily Drawdown', 'Anticipated Maximum Daily Drawdown'], loc='lower left')\n",
    "plt.locator_params(nbins=10, axis='x')\n",
    "\n",
    "cumsum = pct.cumsum()\n",
    "start = np.argmax(np.maximum.accumulate(cumsum) - cumsum)\n",
    "end = np.argmax(cumsum[:start])\n",
    "MDP = price[end]/price[start]-1"
   ]
  },
  {
   "cell_type": "code",
   "execution_count": null,
   "metadata": {},
   "outputs": [],
   "source": [
    "MD = plt.figure(figsize=(15,8))\n",
    "plt.plot(cumsum)\n",
    "plt.xlabel('Date')\n",
    "plt.ylabel('Normalized Price')\n",
    "plt.plot([start, end], [cumsum[start], cumsum[end]], 'o', color='Red', markersize=10)\n",
    "plt.gca().invert_yaxis()\n",
    "plt.locator_params(nbins=10, axis='x')\n",
    "\n",
    "print (\"Max Drawdown of {} Occured Between {} and {}\".format(HDP,start,end))"
   ]
  },
  {
   "cell_type": "code",
   "execution_count": null,
   "metadata": {},
   "outputs": [],
   "source": [
    "price = df[\"2018-09-04\":\"2007-10-25\"]\n",
    "pct = price.pct_change()\n",
    "\n",
    "pd.plotting.scatter_matrix(pct, diagonal='kde', alpha=0.1,figsize=(12,12))\n",
    "pct.hist(bins=50, sharex=True, figsize=(12,8))\n",
    "pct.describe()"
   ]
  },
  {
   "cell_type": "code",
   "execution_count": null,
   "metadata": {},
   "outputs": [],
   "source": [
    "from scipy import random, linalg\n",
    "import seaborn as sns\n",
    "\n",
    "matrixSize = 29\n",
    "A = random.rand(matrixSize,matrixSize)\n",
    "B = np.dot(A,A.transpose())\n",
    "\n",
    "\n",
    "df = pd.DataFrame(B, columns=['MA','EMA','MOM','ROC','ATR','BB','PPSR',\n",
    "'STOK','STO','TRIX','ADX','MACD','MassI','Vortex','KST','RSI','TSI','ACCDIST','Chaikin','MFI','OBV','FORCE','EOM','CCI',\n",
    "'COPP','KELCH','ULTOSC','DONCH','STDDEV'])\n",
    "corr = df.corr()\n",
    "\n",
    "sns.heatmap(corr, xticklabels=corr.columns, yticklabels=corr.columns)\n",
    "\n",
    "from pandas.plotting import scatter_matrix\n",
    "scatter_matrix(df,figsize=(15,9),alpha=0.3)\n",
    "\n",
    "# # actual correlation\n",
    "# corr = np.corrcoef(actual_returns, predicted_returns)[0][1]\n",
    "# ax1.scatter(actual_returns, predicted_returns, color='k', marker='o', alpha=0.5, s=100)\n",
    "# ax1.set_title('r = {:.2f}'.format(corr), fontsize=18)\n",
    "\n",
    "# # shifted correlation\n",
    "# shifted_actual = actual_returns[:-1]\n",
    "# shifted_predicted = predicted_returns.shift(-1).dropna()\n",
    "# corr = np.corrcoef(shifted_actual, shifted_predicted)[0][1]\n",
    "# ax2.scatter(shifted_actual, shifted_predicted, color='k', marker='o', alpha=0.5, s=100)\n",
    "# ax2.set_title('r = {:.2f}'.format(corr), fontsize=18);\n",
    "\n",
    "# 'BBANDS','DEMA','EMA','HT_TRENDLINE','KAMA',\n",
    "# 'MA','MAMA','MAVP','MIDPOINT','MIDPRICE','SAR','SAREXT','SMA','T3','TEMA','TRIMA','WMA','ADX','ADXR','APO','AROON',\n",
    "# 'AROONOSC','BOP','CCI','CMO','DX','MACD','MACDEXT','MACDFIX','MFI','MINUS_DI','MINUS_DM','MOM','PLUS_DI','PLUS_DM','PPO',\n",
    "# 'ROC','ROCP','ROCR','ROCR100','RSI','STOCH','STOCHF','STOCHRSI','TRIX','ULTOSC','WILLR','AD','ADOSC','OBV','HT_DCPERIOD',\n",
    "# 'HT_DCPHASE','HT_PHASOR','HT_SINE','HT_TRENDMODE','AVGPRICE','MEDPRICE','TYPPRICE','WCLPRICE','ATR','NATR','TRANGE',\n",
    "# '2CROWS','3BLACKCROWS','3INSIDE','3LINESTRIKE','3OUTSIDE','3STARSINSOUTH','3WHITESOLDIERS','ABANDONEDBABY','ADVANCEBLOCK',\n",
    "# 'BELTHOLD','BREAKAWAY','CLOSINGMARUBOZU','CONCEALBABYSWALL','COUNTERATTACK','DARKCLOUDCOVER','DOJI','DOJISTAR',\n",
    "# 'DRAGONFLYDOJI','ENGULFING','EVENINGDOJISTAR','EVENINGSTAR','GAPSIDESIDEWHITE','GRAVESTONEDOJI','HAMMER','HANGINGMAN',\n",
    "# 'HARAMI','HARAMICROSS','HIGHWAVE','HIKKAKE','HIKKAKEMOD','HOMINGPIGEON','IDENTICAL3CROWS','INNECK','INVERTEDHAMMER',\n",
    "# 'KICKING','KICKINGBYLENGTH','LADDERBOTTOM','LONGLEGGEDDOJI','LONGLINE','MARUBOZU','MATCHINGLOW','MATHOLD',\n",
    "# 'MORNINGDOJISTAR','MORNINGSTAR','ONNECK','PIERCING','RICKSHAWMAN','RISEFALL3METHODS','SEPARATINGLINES','SHOOTINGSTAR',\n",
    "# 'SHORTLINE','SPINNINGTOP','STALLEDPATTERN','STICKSANDWICH','TAKURI','TASUKIGAP','THRUSTING','TRISTAR','UNIQUE3RIVER',\n",
    "# 'UPSIDEGAP2CROWS','XSIDEGAP3METHODS'\n"
   ]
  },
  {
   "cell_type": "code",
   "execution_count": null,
   "metadata": {},
   "outputs": [],
   "source": []
  }
 ],
 "metadata": {
  "kernelspec": {
   "display_name": "Python 3",
   "language": "python",
   "name": "python3"
  },
  "language_info": {
   "codemirror_mode": {
    "name": "ipython",
    "version": 3
   },
   "file_extension": ".py",
   "mimetype": "text/x-python",
   "name": "python",
   "nbconvert_exporter": "python",
   "pygments_lexer": "ipython3",
   "version": "3.6.4"
  },
  "widgets": {
   "application/vnd.jupyter.widget-state+json": {
    "state": {},
    "version_major": 2,
    "version_minor": 0
   }
  }
 },
 "nbformat": 4,
 "nbformat_minor": 2
}
